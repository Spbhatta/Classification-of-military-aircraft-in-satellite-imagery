{
  "cells": [
    {
      "cell_type": "markdown",
      "metadata": {
        "id": "7xib8QQdzrQr"
      },
      "source": [
        "**NOTE: PLEASE REFER TO THE DATASET USING THIS LINK:**\n",
        "https://drive.google.com/drive/folders/1abQQCeZ92jGfF2C1GjnJQW8Mw_Jk9cw2\n",
        "\n",
        "**CHANGE ALL THE FILE PATHS BEFORE EXECUTING THE CODE**\n",
        "\n",
        "SRNs:\n",
        "\n",
        "PES1UG21EC302\n",
        "\n",
        "PES1UG21EC295\n",
        "\n",
        "PES1UG21EC228\n"
      ]
    },
    {
      "cell_type": "markdown",
      "metadata": {
        "id": "Fhr5jxyg0E2l"
      },
      "source": [
        "## **1. Convolutional Neural Network Model: Neural network implementation 1**"
      ]
    },
    {
      "cell_type": "code",
      "execution_count": null,
      "metadata": {
        "colab": {
          "base_uri": "https://localhost:8080/"
        },
        "id": "cBBPZDxlzLi_",
        "outputId": "c9e1e9bd-dc2f-424a-b469-a11fe43cd383"
      },
      "outputs": [
        {
          "name": "stdout",
          "output_type": "stream",
          "text": [
            "\u001b[?25l     \u001b[90m━━━━━━━━━━━━━━━━━━━━━━━━━━━━━━━━━━━━━━━━\u001b[0m \u001b[32m0.0/128.9 kB\u001b[0m \u001b[31m?\u001b[0m eta \u001b[36m-:--:--\u001b[0m\r\u001b[2K     \u001b[91m━━━━━━━━━━━━━━━━━━━\u001b[0m\u001b[90m╺\u001b[0m\u001b[90m━━━━━━━━━━━━━━━━━━━━\u001b[0m \u001b[32m61.4/128.9 kB\u001b[0m \u001b[31m1.6 MB/s\u001b[0m eta \u001b[36m0:00:01\u001b[0m\r\u001b[2K     \u001b[90m━━━━━━━━━━━━━━━━━━━━━━━━━━━━━━━━━━━━━━━━\u001b[0m \u001b[32m128.9/128.9 kB\u001b[0m \u001b[31m2.4 MB/s\u001b[0m eta \u001b[36m0:00:00\u001b[0m\n",
            "\u001b[?25h"
          ]
        },
        {
          "name": "stderr",
          "output_type": "stream",
          "text": [
            "<ipython-input-1-f227ba7630f9>:9: DeprecationWarning: `import kerastuner` is deprecated, please use `import keras_tuner`.\n",
            "  from kerastuner.tuners import RandomSearch\n"
          ]
        },
        {
          "name": "stdout",
          "output_type": "stream",
          "text": [
            "Mounted at /content/drive/\n"
          ]
        }
      ],
      "source": [
        "import tensorflow as tf\n",
        "import tensorflow.keras.losses as losses\n",
        "from tensorflow import keras\n",
        "from tensorflow.keras.models import Sequential\n",
        "from tensorflow.keras.layers import Dense, Dropout, Activation, Flatten\n",
        "from tensorflow.keras.layers import Conv2D, MaxPooling2D\n",
        "import tensorflow.keras.optimizers as optimizers\n",
        "!pip install -q -U keras-tuner\n",
        "from kerastuner.tuners import RandomSearch\n",
        "from kerastuner.engine.hyperparameters import HyperParameters\n",
        "import time\n",
        "LOG_DIR = f\"{int(time.time())}\"\n",
        "from keras.layers import BatchNormalization\n",
        "from tempfile import TemporaryFile\n",
        "import numpy as np\n",
        "import matplotlib.pyplot as plt\n",
        "import os\n",
        "import tensorflow.keras.regularizers as regularizers\n",
        "import cv2\n",
        "import random\n",
        "from PIL import Image\n",
        "import matplotlib.patches as patches\n",
        "from keras.preprocessing.image import ImageDataGenerator, array_to_img, img_to_array, load_img\n",
        "from google.colab import drive\n",
        "import time\n",
        "drive.mount('/content/drive/')\n",
        "dataset_dir = \"/content/drive/MyDrive/aircraft_image_dataset\" # PLEASE CHANGE TO YOUR PATH\n",
        "\n",
        "training_data = []\n",
        "test_data = []\n",
        "RESIZE_VALUE = 130\n",
        "root_path = \"/content/drive/MyDrive/aircraft_image_dataset/\" # PLEASE CHANGE TO YOUR PATH"
      ]
    },
    {
      "cell_type": "code",
      "execution_count": null,
      "metadata": {
        "colab": {
          "base_uri": "https://localhost:8080/"
        },
        "id": "fBYS_Q7wzaeO",
        "outputId": "a388fa21-0a80-40b3-88d3-650633c79567"
      },
      "outputs": [
        {
          "name": "stdout",
          "output_type": "stream",
          "text": [
            "10\n",
            "Selected aircraft files: ['B-1', 'B-2', 'B-52', 'C-5', 'C-17', 'C-130', 'C-135', 'E-3', 'KC-10', 'BareLand']\n",
            "Files in dataset (Google drive): ['BareLand', 'sample', 'training_dataset.npz', 'Model V5', 'B-1', 'B-2', 'B-52', 'C-5', 'C-17', 'C-130', 'C-135', 'E-3', 'KC-10', 'TYPE-NAMES.txt', 'Model V6', 'Model V4', 'Model V3', 'Model V2', 'Model V1', 'Testing Images', 'R - CNN DATASETS', 'primary_training_dataset.npz']\n"
          ]
        }
      ],
      "source": [
        "# outputs the names of the files currently in the google drive file (dataset)\n",
        "types_path = \"/content/drive/MyDrive/aircraft_image_dataset/TYPE-NAMES.txt\" #CHANGE PATH TO RESPECTIVE FILE IN DATASET\n",
        "aircraft_types = []\n",
        "f = open(types_path, \"r\")\n",
        "for types in f.read().split():\n",
        "  aircraft_types.append(types.replace('\"',''))\n",
        "print(len(aircraft_types))\n",
        "f.close()\n",
        "print(\"Selected aircraft files:\",aircraft_types)\n",
        "print(\"Files in dataset (Google drive):\",os.listdir(root_path))"
      ]
    },
    {
      "cell_type": "code",
      "execution_count": null,
      "metadata": {
        "id": "BfvpfKSAcbxG"
      },
      "outputs": [],
      "source": [
        "# to create training data\n",
        "'''\n",
        "def create_training_data():\n",
        "    # function iterates through each file in the google drive dataset and converts each image into an array\n",
        "  for type in aircraft_types:\n",
        "    selected_path = root_path + type\n",
        "    class_num = aircraft_types.index(type)\n",
        "    for img in os.listdir(selected_path):\n",
        "      try:\n",
        "        image = Image.open(os.path.join(selected_path,img))\n",
        "        img_array = np.array(image)\n",
        "        aircraft_img = cv2.resize(img_array, (RESIZE_VALUE, RESIZE_VALUE))\n",
        "        training_data.append([aircraft_img, class_num])\n",
        "      except Exception as e:\n",
        "        print(\"error:\",selected_path,image)\n",
        "\n",
        "create_training_data()\n",
        "random.shuffle(training_data)\n",
        "print(len(training_data))\n",
        "print(training_data[0][1])\n",
        "plt.imshow(training_data[0][0])\n",
        "'# saves all generated arrays of images to a .npz file\n",
        "np.savez_compressed(root_path+'primary_training_dataset1.npz', a=training_data)\n",
        "'''"
      ]
    },
    {
      "cell_type": "code",
      "execution_count": null,
      "metadata": {
        "colab": {
          "base_uri": "https://localhost:8080/"
        },
        "id": "CxKXkcrZ5flI",
        "outputId": "606c4228-1f18-4935-adae-af0ee37282fb"
      },
      "outputs": [
        {
          "name": "stdout",
          "output_type": "stream",
          "text": [
            "6123\n"
          ]
        }
      ],
      "source": [
        "def load_training_data():\n",
        "  #LOAD TRAINING DATA INTO ARRAY FROM FILE\n",
        "  loaded = np.load(root_path+\"training_dataset.npz\", allow_pickle=True) # We have used this .npz file to train our models (included in dataset)\n",
        "  training_data = loaded['a']\n",
        "  for x in range(len(training_data)):\n",
        "    if (training_data[x][0].shape[2] == 4):\n",
        "      training_data[x][0] = cv2.cvtColor(training_data[x][0], cv2.COLOR_BGRA2BGR)\n",
        "  return training_data\n",
        "training_data = load_training_data()\n",
        "random.shuffle(training_data)\n",
        "print(len(training_data))"
      ]
    },
    {
      "cell_type": "code",
      "execution_count": null,
      "metadata": {
        "colab": {
          "base_uri": "https://localhost:8080/"
        },
        "id": "Q-qmz7-9zy--",
        "outputId": "8391f047-63bc-4054-8ba4-7f87ec30cea9"
      },
      "outputs": [
        {
          "name": "stdout",
          "output_type": "stream",
          "text": [
            "6123\n"
          ]
        }
      ],
      "source": [
        "x_train = []\n",
        "y_train = []\n",
        "\n",
        "for data, label in training_data:\n",
        "  x_train.append(data)\n",
        "  y_train.append(label)\n",
        "\n",
        "x_train = np.asarray(x_train)\n",
        "x_train = np.array(x_train).reshape(-1, RESIZE_VALUE, RESIZE_VALUE, 3)\n",
        "y_train = np.asarray(y_train)\n",
        "\n",
        "print(len(x_train))\n"
      ]
    },
    {
      "cell_type": "code",
      "execution_count": null,
      "metadata": {
        "colab": {
          "base_uri": "https://localhost:8080/"
        },
        "id": "bMue10fUd-zZ",
        "outputId": "c06b1086-b35e-438f-aec6-2f421ca35f6f"
      },
      "outputs": [
        {
          "name": "stdout",
          "output_type": "stream",
          "text": [
            "Training samples: 4898\n",
            "Testing samples: 1225\n"
          ]
        }
      ],
      "source": [
        "from sklearn.model_selection import train_test_split\n",
        "\n",
        "# Split the data into training (80%) and testing (20%)\n",
        "x_train, x_test, y_train, y_test = train_test_split(x_train, y_train, test_size=0.2, random_state=42)\n",
        "\n",
        "# Normalize the pixel values\n",
        "x_train = x_train / 255.0\n",
        "x_test = x_test / 255.0\n",
        "\n",
        "print(\"Training samples:\", len(x_train))\n",
        "print(\"Testing samples:\", len(x_test))\n"
      ]
    },
    {
      "cell_type": "code",
      "execution_count": null,
      "metadata": {
        "colab": {
          "base_uri": "https://localhost:8080/",
          "height": 1000
        },
        "id": "F1EA_eWP7vfR",
        "outputId": "9ef39d02-23b9-4049-c798-ae0e14613563"
      },
      "outputs": [
        {
          "name": "stdout",
          "output_type": "stream",
          "text": [
            "Epoch 1/30\n",
            "54/54 [==============================] - 5s 54ms/step - loss: 2.2681 - acc: 0.1660 - val_loss: 2.1621 - val_acc: 0.2034\n",
            "Epoch 2/30\n",
            "54/54 [==============================] - 2s 36ms/step - loss: 2.0557 - acc: 0.2701 - val_loss: 1.8900 - val_acc: 0.4252\n",
            "Epoch 3/30\n",
            "54/54 [==============================] - 2s 38ms/step - loss: 1.8514 - acc: 0.3524 - val_loss: 1.6582 - val_acc: 0.5007\n",
            "Epoch 4/30\n",
            "54/54 [==============================] - 2s 38ms/step - loss: 1.6519 - acc: 0.4507 - val_loss: 1.4473 - val_acc: 0.5857\n",
            "Epoch 5/30\n",
            "54/54 [==============================] - 2s 38ms/step - loss: 1.4386 - acc: 0.5312 - val_loss: 1.2235 - val_acc: 0.6395\n",
            "Epoch 6/30\n",
            "54/54 [==============================] - 2s 34ms/step - loss: 1.2603 - acc: 0.5942 - val_loss: 1.0682 - val_acc: 0.6830\n",
            "Epoch 7/30\n",
            "54/54 [==============================] - 2s 34ms/step - loss: 1.0940 - acc: 0.6383 - val_loss: 0.9471 - val_acc: 0.7286\n",
            "Epoch 8/30\n",
            "54/54 [==============================] - 2s 34ms/step - loss: 0.9802 - acc: 0.6922 - val_loss: 0.8450 - val_acc: 0.7408\n",
            "Epoch 9/30\n",
            "54/54 [==============================] - 2s 34ms/step - loss: 0.8792 - acc: 0.7147 - val_loss: 0.7433 - val_acc: 0.7776\n",
            "Epoch 10/30\n",
            "54/54 [==============================] - 2s 34ms/step - loss: 0.7939 - acc: 0.7395 - val_loss: 0.6802 - val_acc: 0.7939\n",
            "Epoch 11/30\n",
            "54/54 [==============================] - 2s 37ms/step - loss: 0.7235 - acc: 0.7669 - val_loss: 0.6319 - val_acc: 0.8034\n",
            "Epoch 12/30\n",
            "54/54 [==============================] - 2s 39ms/step - loss: 0.6506 - acc: 0.7865 - val_loss: 0.5757 - val_acc: 0.8252\n",
            "Epoch 13/30\n",
            "54/54 [==============================] - 2s 38ms/step - loss: 0.6010 - acc: 0.8136 - val_loss: 0.5430 - val_acc: 0.8293\n",
            "Epoch 14/30\n",
            "54/54 [==============================] - 2s 36ms/step - loss: 0.5713 - acc: 0.8197 - val_loss: 0.5240 - val_acc: 0.8313\n",
            "Epoch 15/30\n",
            "54/54 [==============================] - 2s 35ms/step - loss: 0.5314 - acc: 0.8215 - val_loss: 0.4820 - val_acc: 0.8592\n",
            "Epoch 16/30\n",
            "54/54 [==============================] - 2s 35ms/step - loss: 0.4780 - acc: 0.8559 - val_loss: 0.4754 - val_acc: 0.8585\n",
            "Epoch 17/30\n",
            "54/54 [==============================] - 2s 35ms/step - loss: 0.4624 - acc: 0.8556 - val_loss: 0.4210 - val_acc: 0.8782\n",
            "Epoch 18/30\n",
            "54/54 [==============================] - 2s 35ms/step - loss: 0.4150 - acc: 0.8667 - val_loss: 0.4067 - val_acc: 0.8898\n",
            "Epoch 19/30\n",
            "54/54 [==============================] - 2s 36ms/step - loss: 0.3755 - acc: 0.8842 - val_loss: 0.3776 - val_acc: 0.8986\n",
            "Epoch 20/30\n",
            "54/54 [==============================] - 2s 37ms/step - loss: 0.3547 - acc: 0.8871 - val_loss: 0.3725 - val_acc: 0.8959\n",
            "Epoch 21/30\n",
            "54/54 [==============================] - 2s 38ms/step - loss: 0.3243 - acc: 0.9014 - val_loss: 0.3557 - val_acc: 0.9007\n",
            "Epoch 22/30\n",
            "54/54 [==============================] - 2s 37ms/step - loss: 0.2937 - acc: 0.9110 - val_loss: 0.3274 - val_acc: 0.9109\n",
            "Epoch 23/30\n",
            "54/54 [==============================] - 2s 35ms/step - loss: 0.2879 - acc: 0.9163 - val_loss: 0.3169 - val_acc: 0.9184\n",
            "Epoch 24/30\n",
            "54/54 [==============================] - 2s 35ms/step - loss: 0.2590 - acc: 0.9230 - val_loss: 0.3208 - val_acc: 0.9129\n",
            "Epoch 25/30\n",
            "54/54 [==============================] - 2s 35ms/step - loss: 0.2401 - acc: 0.9271 - val_loss: 0.2952 - val_acc: 0.9150\n",
            "Epoch 26/30\n",
            "54/54 [==============================] - 2s 34ms/step - loss: 0.2392 - acc: 0.9262 - val_loss: 0.2811 - val_acc: 0.9238\n",
            "Epoch 27/30\n",
            "54/54 [==============================] - 2s 35ms/step - loss: 0.2044 - acc: 0.9443 - val_loss: 0.2801 - val_acc: 0.9238\n",
            "Epoch 28/30\n",
            "54/54 [==============================] - 3s 51ms/step - loss: 0.1959 - acc: 0.9446 - val_loss: 0.2650 - val_acc: 0.9327\n",
            "Epoch 29/30\n",
            "54/54 [==============================] - 2s 38ms/step - loss: 0.1850 - acc: 0.9454 - val_loss: 0.2785 - val_acc: 0.9272\n",
            "Epoch 30/30\n",
            "54/54 [==============================] - 2s 38ms/step - loss: 0.1871 - acc: 0.9460 - val_loss: 0.2646 - val_acc: 0.9299\n",
            "Epoch 8 - Testing Loss: 0.2441 - Testing Accuracy: 0.9265\n"
          ]
        },
        {
          "data": {
            "image/png": "[encoded data removed]",
            "text/plain": [
              "<Figure size 1200x500 with 2 Axes>"
            ]
          },
          "metadata": {},
          "output_type": "display_data"
        }
      ],
      "source": [
        "def build_model_MAC():\n",
        "    # THE CNN MODEL\n",
        "    model = Sequential()\n",
        "    model.add(Conv2D(32, (3, 3), input_shape = (RESIZE_VALUE,RESIZE_VALUE,3)))\n",
        "    model.add(Activation(\"relu\"))\n",
        "    model.add(MaxPooling2D(pool_size=(2, 2)))\n",
        "\n",
        "    model.add(Conv2D(64, (3, 3)))\n",
        "    model.add(Activation(\"relu\"))\n",
        "    model.add(MaxPooling2D(pool_size=(2, 2)))\n",
        "\n",
        "    model.add(Conv2D(32, (3, 3)))\n",
        "    model.add(Activation(\"relu\"))\n",
        "    model.add(MaxPooling2D(pool_size=(2, 2)))\n",
        "\n",
        "\n",
        "\n",
        "    model.add(Flatten())\n",
        "\n",
        "    model.add(Dense(450))\n",
        "    model.add(Activation('relu'))\n",
        "    model.add(Dropout(.65))\n",
        "\n",
        "    model.add(Dense(len(aircraft_types)))\n",
        "    model.add(Activation(\"softmax\"))\n",
        "\n",
        "    opt = keras.optimizers.Adam(learning_rate=0.0001)\n",
        "    model.compile(loss='sparse_categorical_crossentropy',\n",
        "                    optimizer=opt,\n",
        "                    metrics=['acc'])\n",
        "\n",
        "    return model\n",
        "\n",
        "model = build_model_MAC()\n",
        "epochs = 30\n",
        "x = np.arange(epochs) + 1\n",
        "history_ = model.fit(x_train, y_train, epochs=epochs, validation_split=0.3, batch_size=64)\n",
        "\n",
        "# Evaluate the model on the test set\n",
        "test_loss_, test_acc_ = model.evaluate(x_test, y_test, verbose=0)\n",
        "print(f\"Testing Accuracy: {test_acc_:.4f}\")\n",
        "\n",
        "# Plot training and validation accuracy\n",
        "plt.figure(figsize=(12, 5))\n",
        "\n",
        "plt.subplot(1, 2, 1)\n",
        "plt.plot(x, history_.history['acc'])\n",
        "plt.plot(x, history_.history['val_acc'])\n",
        "plt.xlabel(\"Epochs\")\n",
        "plt.ylabel(\"Accuracy\")\n",
        "plt.legend(['Training Accuracy', 'Validation Accuracy'])\n",
        "plt.title(\"Accuracy Metrics\")\n",
        "\n",
        "# Plot training and validation loss\n",
        "plt.subplot(1, 2, 2)\n",
        "plt.plot(x, history_.history['loss'])\n",
        "plt.plot(x, history_.history['val_loss'])\n",
        "plt.xlabel(\"Epochs\")\n",
        "plt.ylabel(\"Loss\")\n",
        "plt.legend(['Training Loss', 'Validation Loss'])\n",
        "plt.title(\"Loss Metrics\")\n",
        "\n",
        "plt.tight_layout()\n",
        "plt.show()\n",
        "\n"
      ]
    },
    {
      "cell_type": "code",
      "execution_count": null,
      "metadata": {
        "id": "Dt_TtM2Dx1MN"
      },
      "outputs": [],
      "source": [
        "# model.save(root_path+\"Model_1\") # If one wants to save the model"
      ]
    },
    {
      "cell_type": "code",
      "execution_count": null,
      "metadata": {
        "colab": {
          "base_uri": "https://localhost:8080/"
        },
        "id": "XkamyPvdCbM6",
        "outputId": "f19ea165-1819-4ceb-c125-2584fbb63f63"
      },
      "outputs": [
        {
          "name": "stdout",
          "output_type": "stream",
          "text": [
            "1/1 [==============================] - 0s 216ms/step\n",
            "Predicted Class: E-3\n"
          ]
        }
      ],
      "source": [
        "# To predict the class of an image\n",
        "from keras.preprocessing import image as keras_image\n",
        "from tensorflow.keras.models import load_model\n",
        "\n",
        "# Load the image and preprocess it\n",
        "img_path = '/content/drive/MyDrive/aircraft_image_dataset/E-3/9-103.jpg' # Change File Path\n",
        "img = keras_image.load_img(img_path, target_size=(RESIZE_VALUE, RESIZE_VALUE))\n",
        "img_array = keras_image.img_to_array(img)\n",
        "img_array = img_array / 255.0  # Normalize the image\n",
        "\n",
        "# Expand dimensions to match the model input shape (if necessary)\n",
        "img_input = np.expand_dims(img_array, axis=0)\n",
        "\n",
        "# Make predictions\n",
        "predictions = model.predict(img_input)\n",
        "predicted_class_index = np.argmax(predictions)\n",
        "predicted_class = aircraft_types[predicted_class_index]\n",
        "\n",
        "print(\"Predicted Class:\", predicted_class)\n"
      ]
    },
    {
      "cell_type": "code",
      "execution_count": null,
      "metadata": {
        "colab": {
          "base_uri": "https://localhost:8080/"
        },
        "id": "ijEuEG2CXyOb",
        "outputId": "57537b44-e02a-487c-9b55-b5ac54a257c5"
      },
      "outputs": [
        {
          "name": "stdout",
          "output_type": "stream",
          "text": [
            "Collecting tensorflow_model_optimization\n",
            "  Using cached tensorflow_model_optimization-0.7.5-py2.py3-none-any.whl (241 kB)\n",
            "Requirement already satisfied: absl-py~=1.2 in /usr/local/lib/python3.10/dist-packages (from tensorflow_model_optimization) (1.4.0)\n",
            "Requirement already satisfied: dm-tree~=0.1.1 in /usr/local/lib/python3.10/dist-packages (from tensorflow_model_optimization) (0.1.8)\n",
            "Requirement already satisfied: numpy~=1.23 in /usr/local/lib/python3.10/dist-packages (from tensorflow_model_optimization) (1.23.5)\n",
            "Requirement already satisfied: six~=1.14 in /usr/local/lib/python3.10/dist-packages (from tensorflow_model_optimization) (1.16.0)\n",
            "Installing collected packages: tensorflow_model_optimization\n",
            "Successfully installed tensorflow_model_optimization-0.7.5\n",
            "Epoch 1/20\n",
            "  4/154 [..............................] - ETA: 3s - loss: 4.1187 - accuracy: 0.5156   "
          ]
        },
        {
          "name": "stderr",
          "output_type": "stream",
          "text": [
            "WARNING:tensorflow:Callback method `on_train_batch_end` is slow compared to the batch time (batch time: 0.0117s vs `on_train_batch_end` time: 0.0755s). Check your callbacks.\n"
          ]
        },
        {
          "name": "stdout",
          "output_type": "stream",
          "text": [
            "154/154 [==============================] - 17s 48ms/step - loss: 1.1316 - accuracy: 0.6586\n",
            "Epoch 2/20\n",
            "154/154 [==============================] - 4s 23ms/step - loss: 0.5475 - accuracy: 0.8203\n",
            "Epoch 3/20\n",
            "154/154 [==============================] - 4s 26ms/step - loss: 0.3665 - accuracy: 0.8763\n",
            "Epoch 4/20\n",
            "154/154 [==============================] - 3s 21ms/step - loss: 0.2699 - accuracy: 0.9108\n",
            "Epoch 5/20\n",
            "154/154 [==============================] - 3s 20ms/step - loss: 0.2037 - accuracy: 0.9365\n",
            "Epoch 6/20\n",
            "154/154 [==============================] - 3s 20ms/step - loss: 0.1554 - accuracy: 0.9553\n",
            "Epoch 7/20\n",
            "154/154 [==============================] - 4s 25ms/step - loss: 0.1161 - accuracy: 0.9624\n",
            "Epoch 8/20\n",
            "154/154 [==============================] - 5s 30ms/step - loss: 0.0898 - accuracy: 0.9698\n",
            "Epoch 9/20\n",
            "154/154 [==============================] - 3s 20ms/step - loss: 0.1006 - accuracy: 0.9682\n",
            "Epoch 10/20\n",
            "154/154 [==============================] - 3s 20ms/step - loss: 0.0808 - accuracy: 0.9753\n",
            "Epoch 11/20\n",
            "154/154 [==============================] - 3s 20ms/step - loss: 0.0697 - accuracy: 0.9767\n",
            "Epoch 12/20\n",
            "154/154 [==============================] - 4s 27ms/step - loss: 0.0718 - accuracy: 0.9771\n",
            "Epoch 13/20\n",
            "154/154 [==============================] - 4s 24ms/step - loss: 0.0824 - accuracy: 0.9728\n",
            "Epoch 14/20\n",
            "154/154 [==============================] - 3s 20ms/step - loss: 0.0536 - accuracy: 0.9831\n",
            "Epoch 15/20\n",
            "154/154 [==============================] - 3s 20ms/step - loss: 0.0550 - accuracy: 0.9829\n",
            "Epoch 16/20\n",
            "154/154 [==============================] - 3s 21ms/step - loss: 0.0510 - accuracy: 0.9833\n",
            "Epoch 17/20\n",
            "154/154 [==============================] - 4s 26ms/step - loss: 0.0597 - accuracy: 0.9800\n",
            "Epoch 18/20\n",
            "154/154 [==============================] - 4s 23ms/step - loss: 0.0465 - accuracy: 0.9853\n",
            "Epoch 19/20\n",
            "154/154 [==============================] - 3s 20ms/step - loss: 0.0373 - accuracy: 0.9886\n",
            "Epoch 20/20\n",
            "154/154 [==============================] - 3s 20ms/step - loss: 0.0445 - accuracy: 0.9865\n"
          ]
        },
        {
          "data": {
            "text/plain": [
              "<keras.src.callbacks.History at 0x7f08551e3b80>"
            ]
          },
          "execution_count": 13,
          "metadata": {},
          "output_type": "execute_result"
        }
      ],
      "source": [
        "# Pruning of the model\n",
        "\n",
        "!pip install tensorflow_model_optimization\n",
        "\n",
        "import tensorflow_model_optimization as tfmot\n",
        "\n",
        "# Define a pruning schedule (adjust as needed)\n",
        "pruning_schedule = tfmot.sparsity.keras.PolynomialDecay(\n",
        "    initial_sparsity=0.0,\n",
        "    final_sparsity=0.5,  # Pruning 50% of the weights\n",
        "    begin_step=0,\n",
        "    end_step=1000\n",
        ")\n",
        "\n",
        "# Create a pruning callback\n",
        "pruning_callbacks = [\n",
        "    tfmot.sparsity.keras.UpdatePruningStep(),\n",
        "    tfmot.sparsity.keras.PruningSummaries(log_dir='/tmp')\n",
        "]\n",
        "\n",
        "# Define the model for pruning\n",
        "pruned_model = tfmot.sparsity.keras.prune_low_magnitude(model, pruning_schedule=pruning_schedule)\n",
        "\n",
        "# Compile the pruned model with appropriate optimizer and loss function\n",
        "pruned_model.compile(optimizer='adam', loss='sparse_categorical_crossentropy', metrics=['accuracy'])\n",
        "\n",
        "# Prune the model by training for a few epochs (adjust epochs and other parameters)\n",
        "pruned_model.fit(x_train, y_train, epochs=20, callbacks=pruning_callbacks)\n"
      ]
    },
    {
      "cell_type": "code",
      "execution_count": null,
      "metadata": {
        "colab": {
          "base_uri": "https://localhost:8080/"
        },
        "id": "n9S3kw5Ea7EI",
        "outputId": "a7dfddb5-168c-44e2-e8c5-b74a8e81a01d"
      },
      "outputs": [
        {
          "name": "stdout",
          "output_type": "stream",
          "text": [
            "0.9714285731315613\n"
          ]
        }
      ],
      "source": [
        "# Testing data accuracy of pruned model\n",
        "test_loss_, test_acc_ = pruned_model.evaluate(x_test, y_test, verbose=0)\n",
        "print(test_acc_)"
      ]
    },
    {
      "cell_type": "code",
      "execution_count": null,
      "metadata": {
        "id": "lJ3j-wDnnBmi"
      },
      "outputs": [],
      "source": [
        "#code to augment the images in the data set, to make the cnn model work better\n",
        "'''\n",
        "def image_process():\n",
        "  #image processing (dataset image randomizer)\n",
        "  plane = \"c/\"\n",
        "  datagen = ImageDataGenerator(\n",
        "          rotation_range=360,\n",
        "          width_shift_range=0,\n",
        "          height_shift_range=0,\n",
        "          shear_range=0,\n",
        "          zoom_range=0.0,\n",
        "          horizontal_flip=True,\n",
        "          fill_mode='nearest')\n",
        "\n",
        "  selected_path = root_path+plane\n",
        "  for img_ in os.listdir(selected_path):\n",
        "    img = load_img(selected_path+img_)  # this is a PIL image\n",
        "    x = img_to_array(img)  # this is a Numpy array with shape (3, 150, 150)\n",
        "    x = x.reshape((1,) + x.shape)  # this is a Numpy array with shape (1, 3, 150, 150)\n",
        "\n",
        "    # the .flow() command below generates batches of randomly transformed images\n",
        "    # and saves the results to the `preview/` directory\n",
        "    i = 0\n",
        "    for batch in datagen.flow(x, batch_size=1,\n",
        "                              save_to_dir=root_path+plane, save_prefix=img_, save_format='jpeg'):\n",
        "        i += 1\n",
        "        if i > 20: # the number of image generation (amendments) per selected picture\n",
        "            break\n",
        "image_process()\n",
        "'''"
      ]
    },
    {
      "cell_type": "markdown",
      "metadata": {
        "id": "eA7JOpVYy36Q"
      },
      "source": [
        "# **DenseNet Model: Neural Network Implementation 2**"
      ]
    },
    {
      "cell_type": "code",
      "execution_count": null,
      "metadata": {
        "colab": {
          "base_uri": "https://localhost:8080/"
        },
        "id": "G_XfV8_roskk",
        "outputId": "3cd82f80-6472-465c-fb5d-ced1054fddf4"
      },
      "outputs": [
        {
          "name": "stderr",
          "output_type": "stream",
          "text": [
            "<ipython-input-1-1f9d64ee58dd>:9: DeprecationWarning: `import kerastuner` is deprecated, please use `import keras_tuner`.\n",
            "  from kerastuner.tuners import RandomSearch\n"
          ]
        }
      ],
      "source": [
        "import tensorflow as tf\n",
        "import tensorflow.keras.losses as losses\n",
        "from tensorflow import keras\n",
        "from tensorflow.keras.models import Sequential\n",
        "from tensorflow.keras.layers import Dense, Dropout, Activation, Flatten\n",
        "from tensorflow.keras.layers import Conv2D, MaxPooling2D\n",
        "import tensorflow.keras.optimizers as optimizers\n",
        "!pip install -q -U keras-tuner\n",
        "from kerastuner.tuners import RandomSearch\n",
        "from kerastuner.engine.hyperparameters import HyperParameters\n",
        "import time\n",
        "LOG_DIR = f\"{int(time.time())}\"\n",
        "from keras.layers import BatchNormalization\n",
        "from tempfile import TemporaryFile\n",
        "import numpy as np\n",
        "import matplotlib.pyplot as plt\n",
        "import os\n",
        "import tensorflow.keras.regularizers as regularizers\n",
        "import cv2\n",
        "import random\n",
        "from PIL import Image\n",
        "import matplotlib.patches as patches\n",
        "from keras.preprocessing.image import ImageDataGenerator, array_to_img, img_to_array, load_img\n",
        "from google.colab import drive\n",
        "import time"
      ]
    },
    {
      "cell_type": "code",
      "execution_count": null,
      "metadata": {
        "colab": {
          "base_uri": "https://localhost:8080/"
        },
        "id": "7WwnO8YroRkt",
        "outputId": "d4139ca7-613b-4adb-9454-db00b4d36353"
      },
      "outputs": [
        {
          "name": "stdout",
          "output_type": "stream",
          "text": [
            "Drive already mounted at /content/drive/; to attempt to forcibly remount, call drive.mount(\"/content/drive/\", force_remount=True).\n"
          ]
        }
      ],
      "source": [
        "from google.colab import drive\n",
        "import time\n",
        "drive.mount('/content/drive/')\n",
        "dataset_dir = \"/content/drive/MyDrive/aircraft_image_dataset\" # Change file path\n",
        "\n",
        "training_data = []\n",
        "test_data = []\n",
        "RESIZE_VALUE = 130\n",
        "root_path = \"/content/drive/MyDrive/aircraft_image_dataset/\" # Change file path"
      ]
    },
    {
      "cell_type": "code",
      "execution_count": null,
      "metadata": {
        "colab": {
          "base_uri": "https://localhost:8080/"
        },
        "id": "vhtYJbdrol77",
        "outputId": "a395079b-d85b-4cf7-eb6b-ea1b0bd0c20e"
      },
      "outputs": [
        {
          "name": "stdout",
          "output_type": "stream",
          "text": [
            "10\n",
            "Selected aircraft files: ['B-1', 'B-2', 'B-52', 'C-5', 'C-17', 'C-130', 'C-135', 'E-3', 'KC-10', 'BareLand']\n",
            "Files in dataset (Google drive): ['BareLand', 'sample', 'training_dataset.npz', 'Model V5', 'B-1', 'B-2', 'B-52', 'C-5', 'C-17', 'C-130', 'C-135', 'E-3', 'KC-10', 'TYPE-NAMES.txt', 'Model V6', 'Model V4', 'Model V3', 'Model V2', 'Model V1', 'Testing Images', 'R - CNN DATASETS', 'primary_training_dataset.npz']\n"
          ]
        }
      ],
      "source": [
        "# outputs the names of the files currently in the google drive file (dataset)\n",
        "types_path = \"/content/drive/MyDrive/aircraft_image_dataset/TYPE-NAMES.txt\"\n",
        "aircraft_types = []\n",
        "f = open(types_path, \"r\")\n",
        "for types in f.read().split():\n",
        "  aircraft_types.append(types.replace('\"',''))\n",
        "print(len(aircraft_types))\n",
        "f.close()\n",
        "print(\"Selected aircraft files:\",aircraft_types)\n",
        "print(\"Files in dataset (Google drive):\",os.listdir(root_path))"
      ]
    },
    {
      "cell_type": "code",
      "execution_count": null,
      "metadata": {
        "colab": {
          "base_uri": "https://localhost:8080/"
        },
        "id": "4qWhjcwyo4Xn",
        "outputId": "77044b7b-ad41-4a63-c292-bfdd4d38da90"
      },
      "outputs": [
        {
          "name": "stdout",
          "output_type": "stream",
          "text": [
            "6123\n",
            "3\n"
          ]
        }
      ],
      "source": [
        "def load_training_data():\n",
        "  #LOAD TRAINING DATA INTO ARRAY FROM FILE\n",
        "  loaded = np.load(root_path+\"training_dataset.npz\", allow_pickle=True) # Change file path\n",
        "  training_data = loaded['a']\n",
        "  for x in range(len(training_data)):\n",
        "    if (training_data[x][0].shape[2] == 4):\n",
        "      training_data[x][0] = cv2.cvtColor(training_data[x][0], cv2.COLOR_BGRA2BGR)\n",
        "  return training_data\n",
        "training_data = load_training_data()\n",
        "random.shuffle(training_data)\n",
        "print(len(training_data))\n"
      ]
    },
    {
      "cell_type": "code",
      "execution_count": null,
      "metadata": {
        "colab": {
          "base_uri": "https://localhost:8080/"
        },
        "id": "t8EgQQMRpEbt",
        "outputId": "10473e15-6dce-4934-b6e7-d9d9b2fd4051"
      },
      "outputs": [
        {
          "name": "stdout",
          "output_type": "stream",
          "text": [
            "6123\n"
          ]
        }
      ],
      "source": [
        "x_train = []\n",
        "y_train = []\n",
        "\n",
        "for data, label in training_data:\n",
        "  x_train.append(data)\n",
        "  y_train.append(label)\n",
        "\n",
        "x_train = np.asarray(x_train)\n",
        "x_train = np.array(x_train).reshape(-1, RESIZE_VALUE, RESIZE_VALUE, 3)\n",
        "y_train = np.asarray(y_train)\n",
        "\n",
        "print(len(x_train))\n"
      ]
    },
    {
      "cell_type": "code",
      "execution_count": null,
      "metadata": {
        "colab": {
          "base_uri": "https://localhost:8080/"
        },
        "id": "AsgCzRzgpGEj",
        "outputId": "dc4b3762-eef4-4755-a9e6-118fb707d8a3"
      },
      "outputs": [
        {
          "name": "stdout",
          "output_type": "stream",
          "text": [
            "Training samples: 4898\n",
            "Testing samples: 1225\n"
          ]
        }
      ],
      "source": [
        "from sklearn.model_selection import train_test_split\n",
        "\n",
        "# Split the data into training (80%) and testing (20%)\n",
        "x_train, x_test, y_train, y_test = train_test_split(x_train, y_train, test_size=0.2, random_state=42)\n",
        "\n",
        "# Normalize the pixel values\n",
        "x_train = x_train / 255.0\n",
        "x_test = x_test / 255.0\n",
        "\n",
        "print(\"Training samples:\", len(x_train))\n",
        "print(\"Testing samples:\", len(x_test))\n"
      ]
    },
    {
      "cell_type": "code",
      "execution_count": null,
      "metadata": {
        "id": "hPpZpOc0mVdM"
      },
      "outputs": [],
      "source": [
        "# The DenseNet Model\n",
        "import keras\n",
        "from keras.models import Model\n",
        "from keras.layers import Conv2D, MaxPooling2D, Dense, Input, Activation, Dropout, GlobalAveragePooling2D, \\\n",
        "    BatchNormalization, concatenate, AveragePooling2D\n",
        "from keras.optimizers import Adam\n",
        "import matplotlib.pyplot as plt\n",
        "\n",
        "\n",
        "def conv_layer(conv_x, filters):\n",
        "    conv_x = BatchNormalization()(conv_x)\n",
        "    conv_x = Activation('relu')(conv_x)\n",
        "    conv_x = Conv2D(filters, (3, 3), kernel_initializer='he_uniform', padding='same', use_bias=False)(conv_x)\n",
        "    conv_x = Dropout(0.2)(conv_x)\n",
        "\n",
        "    return conv_x\n",
        "\n",
        "\n",
        "def dense_block(block_x, filters, growth_rate, layers_in_block):\n",
        "    for i in range(layers_in_block):\n",
        "        each_layer = conv_layer(block_x, growth_rate)\n",
        "        block_x = concatenate([block_x, each_layer], axis=-1)\n",
        "        filters += growth_rate\n",
        "\n",
        "    return block_x, filters\n",
        "\n",
        "\n",
        "def transition_block(trans_x, tran_filters):\n",
        "    trans_x = BatchNormalization()(trans_x)\n",
        "    trans_x = Activation('relu')(trans_x)\n",
        "    trans_x = Conv2D(tran_filters, (1, 1), kernel_initializer='he_uniform', padding='same', use_bias=False)(trans_x)\n",
        "    trans_x = AveragePooling2D((2, 2), strides=(2, 2))(trans_x)\n",
        "\n",
        "    return trans_x, tran_filters\n",
        "\n",
        "\n",
        "def dense_net(filters, growth_rate, classes, dense_block_size, layers_in_block):\n",
        "    input_img = Input(shape=(130, 130, 3))\n",
        "    x = Conv2D(24, (3, 3), kernel_initializer='he_uniform', padding='same', use_bias=False)(input_img)\n",
        "\n",
        "    dense_x = BatchNormalization()(x)\n",
        "    dense_x = Activation('relu')(x)\n",
        "\n",
        "    dense_x = MaxPooling2D((3, 3), strides=(2, 2), padding='same')(dense_x)\n",
        "    for block in range(dense_block_size - 1):\n",
        "        dense_x, filters = dense_block(dense_x, filters, growth_rate, layers_in_block)\n",
        "        dense_x, filters = transition_block(dense_x, filters)\n",
        "\n",
        "    dense_x, filters = dense_block(dense_x, filters, growth_rate, layers_in_block)\n",
        "    dense_x = BatchNormalization()(dense_x)\n",
        "    dense_x = Activation('relu')(dense_x)\n",
        "    dense_x = GlobalAveragePooling2D()(dense_x)\n",
        "\n",
        "    output = Dense(classes, activation='softmax')(dense_x)\n",
        "\n",
        "    return Model(input_img, output)\n",
        "\n"
      ]
    },
    {
      "cell_type": "code",
      "execution_count": null,
      "metadata": {
        "colab": {
          "base_uri": "https://localhost:8080/"
        },
        "id": "mqBv4liLzQr-",
        "outputId": "6b882141-d376-45b8-a428-f2da50bc1788"
      },
      "outputs": [
        {
          "name": "stdout",
          "output_type": "stream",
          "text": [
            "Epoch 1/20\n",
            "54/54 [==============================] - 41s 230ms/step - loss: 1.7104 - accuracy: 0.4513 - val_loss: 3.0410 - val_accuracy: 0.1075\n",
            "Epoch 2/20\n",
            "54/54 [==============================] - 8s 156ms/step - loss: 1.2103 - accuracy: 0.6319 - val_loss: 4.6427 - val_accuracy: 0.1238\n",
            "Epoch 3/20\n",
            "54/54 [==============================] - 9s 171ms/step - loss: 0.9715 - accuracy: 0.7130 - val_loss: 5.6972 - val_accuracy: 0.1401\n",
            "Epoch 4/20\n",
            "54/54 [==============================] - 9s 169ms/step - loss: 0.8183 - accuracy: 0.7590 - val_loss: 4.0232 - val_accuracy: 0.1503\n",
            "Epoch 5/20\n",
            "54/54 [==============================] - 9s 158ms/step - loss: 0.6884 - accuracy: 0.8019 - val_loss: 4.3900 - val_accuracy: 0.1850\n",
            "Epoch 6/20\n",
            "54/54 [==============================] - 9s 168ms/step - loss: 0.5914 - accuracy: 0.8293 - val_loss: 3.1506 - val_accuracy: 0.3558\n",
            "Epoch 7/20\n",
            "54/54 [==============================] - 8s 156ms/step - loss: 0.5020 - accuracy: 0.8568 - val_loss: 2.4374 - val_accuracy: 0.4347\n",
            "Epoch 8/20\n",
            "54/54 [==============================] - 9s 167ms/step - loss: 0.4395 - accuracy: 0.8798 - val_loss: 1.6035 - val_accuracy: 0.5558\n",
            "Epoch 9/20\n",
            "54/54 [==============================] - 8s 155ms/step - loss: 0.3719 - accuracy: 0.8976 - val_loss: 2.4318 - val_accuracy: 0.4510\n",
            "Epoch 10/20\n",
            "54/54 [==============================] - 9s 169ms/step - loss: 0.3371 - accuracy: 0.9087 - val_loss: 2.1656 - val_accuracy: 0.5565\n",
            "Epoch 11/20\n",
            "54/54 [==============================] - 8s 157ms/step - loss: 0.3186 - accuracy: 0.9087 - val_loss: 1.4956 - val_accuracy: 0.6109\n",
            "Epoch 12/20\n",
            "54/54 [==============================] - 9s 166ms/step - loss: 0.2694 - accuracy: 0.9244 - val_loss: 1.2776 - val_accuracy: 0.6388\n",
            "Epoch 13/20\n",
            "54/54 [==============================] - 9s 168ms/step - loss: 0.2443 - accuracy: 0.9282 - val_loss: 1.6082 - val_accuracy: 0.5844\n",
            "Epoch 14/20\n",
            "54/54 [==============================] - 9s 158ms/step - loss: 0.2242 - accuracy: 0.9373 - val_loss: 1.0989 - val_accuracy: 0.7422\n",
            "Epoch 15/20\n",
            "54/54 [==============================] - 8s 156ms/step - loss: 0.2054 - accuracy: 0.9443 - val_loss: 0.9735 - val_accuracy: 0.7816\n",
            "Epoch 16/20\n",
            "54/54 [==============================] - 9s 158ms/step - loss: 0.1924 - accuracy: 0.9469 - val_loss: 0.5328 - val_accuracy: 0.8279\n",
            "Epoch 17/20\n",
            "54/54 [==============================] - 8s 155ms/step - loss: 0.1680 - accuracy: 0.9533 - val_loss: 1.8088 - val_accuracy: 0.5762\n",
            "Epoch 18/20\n",
            "54/54 [==============================] - 9s 169ms/step - loss: 0.1726 - accuracy: 0.9498 - val_loss: 0.6701 - val_accuracy: 0.7898\n",
            "Epoch 19/20\n",
            "54/54 [==============================] - 9s 168ms/step - loss: 0.1494 - accuracy: 0.9624 - val_loss: 1.3204 - val_accuracy: 0.6490\n",
            "Epoch 20/20\n",
            "54/54 [==============================] - 8s 156ms/step - loss: 0.1108 - accuracy: 0.9752 - val_loss: 0.4647 - val_accuracy: 0.8707\n",
            "39/39 [==============================] - 2s 28ms/step - loss: 0.4168 - accuracy: 0.8735\n",
            "Test accuracy: 0.8734694123268127\n"
          ]
        }
      ],
      "source": [
        "# Define parameters\n",
        "num_classes = 10\n",
        "dense_blocks = 3  # Number of dense blocks in DenseNet\n",
        "layers_per_block = 4  # Number of layers in each dense block\n",
        "growth_rate = 12  # Growth rate controls how many filters each layer adds\n",
        "initial_filters = 24  # Number of filters in the initial convolution layer\n",
        "\n",
        "# Create the DenseNet model\n",
        "model_2 = dense_net(initial_filters, growth_rate, num_classes, dense_blocks, layers_per_block)\n",
        "\n",
        "# Compile the model\n",
        "model_2.compile(optimizer='adam', loss='sparse_categorical_crossentropy', metrics=['accuracy'])\n",
        "\n",
        "# Train the model\n",
        "history = model_2.fit(x_train, y_train, epochs=20, batch_size=64, validation_split=0.3)\n",
        "\n",
        "# Evaluate the model\n",
        "test_loss, test_accuracy = model_2.evaluate(x_test, y_test)\n",
        "print(f'Test accuracy: {test_accuracy}')\n"
      ]
    },
    {
      "cell_type": "code",
      "execution_count": null,
      "metadata": {
        "id": "Jfjfqz9xYElY"
      },
      "outputs": [],
      "source": [
        "#model_2.save('/content/drive/MyDrive/'+\"Dense_Net_acc.keras\")"
      ]
    },
    {
      "cell_type": "code",
      "execution_count": null,
      "metadata": {
        "colab": {
          "base_uri": "https://localhost:8080/"
        },
        "id": "nKQvC_LD85rm",
        "outputId": "4aa55710-8c4b-430a-b4f3-cf973c2891fb"
      },
      "outputs": [
        {
          "name": "stdout",
          "output_type": "stream",
          "text": [
            "Model: \"model\"\n",
            "__________________________________________________________________________________________________\n",
            " Layer (type)                Output Shape                 Param #   Connected to                  \n",
            "==================================================================================================\n",
            " input_1 (InputLayer)        [(None, 130, 130, 3)]        0         []                            \n",
            "                                                                                                  \n",
            " conv2d (Conv2D)             (None, 130, 130, 24)         648       ['input_1[0][0]']             \n",
            "                                                                                                  \n",
            " activation (Activation)     (None, 130, 130, 24)         0         ['conv2d[0][0]']              \n",
            "                                                                                                  \n",
            " max_pooling2d (MaxPooling2  (None, 65, 65, 24)           0         ['activation[0][0]']          \n",
            " D)                                                                                               \n",
            "                                                                                                  \n",
            " batch_normalization_1 (Bat  (None, 65, 65, 24)           96        ['max_pooling2d[0][0]']       \n",
            " chNormalization)                                                                                 \n",
            "                                                                                                  \n",
            " activation_1 (Activation)   (None, 65, 65, 24)           0         ['batch_normalization_1[0][0]'\n",
            "                                                                    ]                             \n",
            "                                                                                                  \n",
            " conv2d_1 (Conv2D)           (None, 65, 65, 12)           2592      ['activation_1[0][0]']        \n",
            "                                                                                                  \n",
            " dropout (Dropout)           (None, 65, 65, 12)           0         ['conv2d_1[0][0]']            \n",
            "                                                                                                  \n",
            " concatenate (Concatenate)   (None, 65, 65, 36)           0         ['max_pooling2d[0][0]',       \n",
            "                                                                     'dropout[0][0]']             \n",
            "                                                                                                  \n",
            " batch_normalization_2 (Bat  (None, 65, 65, 36)           144       ['concatenate[0][0]']         \n",
            " chNormalization)                                                                                 \n",
            "                                                                                                  \n",
            " activation_2 (Activation)   (None, 65, 65, 36)           0         ['batch_normalization_2[0][0]'\n",
            "                                                                    ]                             \n",
            "                                                                                                  \n",
            " conv2d_2 (Conv2D)           (None, 65, 65, 12)           3888      ['activation_2[0][0]']        \n",
            "                                                                                                  \n",
            " dropout_1 (Dropout)         (None, 65, 65, 12)           0         ['conv2d_2[0][0]']            \n",
            "                                                                                                  \n",
            " concatenate_1 (Concatenate  (None, 65, 65, 48)           0         ['concatenate[0][0]',         \n",
            " )                                                                   'dropout_1[0][0]']           \n",
            "                                                                                                  \n",
            " batch_normalization_3 (Bat  (None, 65, 65, 48)           192       ['concatenate_1[0][0]']       \n",
            " chNormalization)                                                                                 \n",
            "                                                                                                  \n",
            " activation_3 (Activation)   (None, 65, 65, 48)           0         ['batch_normalization_3[0][0]'\n",
            "                                                                    ]                             \n",
            "                                                                                                  \n",
            " conv2d_3 (Conv2D)           (None, 65, 65, 12)           5184      ['activation_3[0][0]']        \n",
            "                                                                                                  \n",
            " dropout_2 (Dropout)         (None, 65, 65, 12)           0         ['conv2d_3[0][0]']            \n",
            "                                                                                                  \n",
            " concatenate_2 (Concatenate  (None, 65, 65, 60)           0         ['concatenate_1[0][0]',       \n",
            " )                                                                   'dropout_2[0][0]']           \n",
            "                                                                                                  \n",
            " batch_normalization_4 (Bat  (None, 65, 65, 60)           240       ['concatenate_2[0][0]']       \n",
            " chNormalization)                                                                                 \n",
            "                                                                                                  \n",
            " activation_4 (Activation)   (None, 65, 65, 60)           0         ['batch_normalization_4[0][0]'\n",
            "                                                                    ]                             \n",
            "                                                                                                  \n",
            " conv2d_4 (Conv2D)           (None, 65, 65, 12)           6480      ['activation_4[0][0]']        \n",
            "                                                                                                  \n",
            " dropout_3 (Dropout)         (None, 65, 65, 12)           0         ['conv2d_4[0][0]']            \n",
            "                                                                                                  \n",
            " concatenate_3 (Concatenate  (None, 65, 65, 72)           0         ['concatenate_2[0][0]',       \n",
            " )                                                                   'dropout_3[0][0]']           \n",
            "                                                                                                  \n",
            " batch_normalization_5 (Bat  (None, 65, 65, 72)           288       ['concatenate_3[0][0]']       \n",
            " chNormalization)                                                                                 \n",
            "                                                                                                  \n",
            " activation_5 (Activation)   (None, 65, 65, 72)           0         ['batch_normalization_5[0][0]'\n",
            "                                                                    ]                             \n",
            "                                                                                                  \n",
            " conv2d_5 (Conv2D)           (None, 65, 65, 72)           5184      ['activation_5[0][0]']        \n",
            "                                                                                                  \n",
            " average_pooling2d (Average  (None, 32, 32, 72)           0         ['conv2d_5[0][0]']            \n",
            " Pooling2D)                                                                                       \n",
            "                                                                                                  \n",
            " batch_normalization_6 (Bat  (None, 32, 32, 72)           288       ['average_pooling2d[0][0]']   \n",
            " chNormalization)                                                                                 \n",
            "                                                                                                  \n",
            " activation_6 (Activation)   (None, 32, 32, 72)           0         ['batch_normalization_6[0][0]'\n",
            "                                                                    ]                             \n",
            "                                                                                                  \n",
            " conv2d_6 (Conv2D)           (None, 32, 32, 12)           7776      ['activation_6[0][0]']        \n",
            "                                                                                                  \n",
            " dropout_4 (Dropout)         (None, 32, 32, 12)           0         ['conv2d_6[0][0]']            \n",
            "                                                                                                  \n",
            " concatenate_4 (Concatenate  (None, 32, 32, 84)           0         ['average_pooling2d[0][0]',   \n",
            " )                                                                   'dropout_4[0][0]']           \n",
            "                                                                                                  \n",
            " batch_normalization_7 (Bat  (None, 32, 32, 84)           336       ['concatenate_4[0][0]']       \n",
            " chNormalization)                                                                                 \n",
            "                                                                                                  \n",
            " activation_7 (Activation)   (None, 32, 32, 84)           0         ['batch_normalization_7[0][0]'\n",
            "                                                                    ]                             \n",
            "                                                                                                  \n",
            " conv2d_7 (Conv2D)           (None, 32, 32, 12)           9072      ['activation_7[0][0]']        \n",
            "                                                                                                  \n",
            " dropout_5 (Dropout)         (None, 32, 32, 12)           0         ['conv2d_7[0][0]']            \n",
            "                                                                                                  \n",
            " concatenate_5 (Concatenate  (None, 32, 32, 96)           0         ['concatenate_4[0][0]',       \n",
            " )                                                                   'dropout_5[0][0]']           \n",
            "                                                                                                  \n",
            " batch_normalization_8 (Bat  (None, 32, 32, 96)           384       ['concatenate_5[0][0]']       \n",
            " chNormalization)                                                                                 \n",
            "                                                                                                  \n",
            " activation_8 (Activation)   (None, 32, 32, 96)           0         ['batch_normalization_8[0][0]'\n",
            "                                                                    ]                             \n",
            "                                                                                                  \n",
            " conv2d_8 (Conv2D)           (None, 32, 32, 12)           10368     ['activation_8[0][0]']        \n",
            "                                                                                                  \n",
            " dropout_6 (Dropout)         (None, 32, 32, 12)           0         ['conv2d_8[0][0]']            \n",
            "                                                                                                  \n",
            " concatenate_6 (Concatenate  (None, 32, 32, 108)          0         ['concatenate_5[0][0]',       \n",
            " )                                                                   'dropout_6[0][0]']           \n",
            "                                                                                                  \n",
            " batch_normalization_9 (Bat  (None, 32, 32, 108)          432       ['concatenate_6[0][0]']       \n",
            " chNormalization)                                                                                 \n",
            "                                                                                                  \n",
            " activation_9 (Activation)   (None, 32, 32, 108)          0         ['batch_normalization_9[0][0]'\n",
            "                                                                    ]                             \n",
            "                                                                                                  \n",
            " conv2d_9 (Conv2D)           (None, 32, 32, 12)           11664     ['activation_9[0][0]']        \n",
            "                                                                                                  \n",
            " dropout_7 (Dropout)         (None, 32, 32, 12)           0         ['conv2d_9[0][0]']            \n",
            "                                                                                                  \n",
            " concatenate_7 (Concatenate  (None, 32, 32, 120)          0         ['concatenate_6[0][0]',       \n",
            " )                                                                   'dropout_7[0][0]']           \n",
            "                                                                                                  \n",
            " batch_normalization_10 (Ba  (None, 32, 32, 120)          480       ['concatenate_7[0][0]']       \n",
            " tchNormalization)                                                                                \n",
            "                                                                                                  \n",
            " activation_10 (Activation)  (None, 32, 32, 120)          0         ['batch_normalization_10[0][0]\n",
            "                                                                    ']                            \n",
            "                                                                                                  \n",
            " conv2d_10 (Conv2D)          (None, 32, 32, 120)          14400     ['activation_10[0][0]']       \n",
            "                                                                                                  \n",
            " average_pooling2d_1 (Avera  (None, 16, 16, 120)          0         ['conv2d_10[0][0]']           \n",
            " gePooling2D)                                                                                     \n",
            "                                                                                                  \n",
            " batch_normalization_11 (Ba  (None, 16, 16, 120)          480       ['average_pooling2d_1[0][0]'] \n",
            " tchNormalization)                                                                                \n",
            "                                                                                                  \n",
            " activation_11 (Activation)  (None, 16, 16, 120)          0         ['batch_normalization_11[0][0]\n",
            "                                                                    ']                            \n",
            "                                                                                                  \n",
            " conv2d_11 (Conv2D)          (None, 16, 16, 12)           12960     ['activation_11[0][0]']       \n",
            "                                                                                                  \n",
            " dropout_8 (Dropout)         (None, 16, 16, 12)           0         ['conv2d_11[0][0]']           \n",
            "                                                                                                  \n",
            " concatenate_8 (Concatenate  (None, 16, 16, 132)          0         ['average_pooling2d_1[0][0]', \n",
            " )                                                                   'dropout_8[0][0]']           \n",
            "                                                                                                  \n",
            " batch_normalization_12 (Ba  (None, 16, 16, 132)          528       ['concatenate_8[0][0]']       \n",
            " tchNormalization)                                                                                \n",
            "                                                                                                  \n",
            " activation_12 (Activation)  (None, 16, 16, 132)          0         ['batch_normalization_12[0][0]\n",
            "                                                                    ']                            \n",
            "                                                                                                  \n",
            " conv2d_12 (Conv2D)          (None, 16, 16, 12)           14256     ['activation_12[0][0]']       \n",
            "                                                                                                  \n",
            " dropout_9 (Dropout)         (None, 16, 16, 12)           0         ['conv2d_12[0][0]']           \n",
            "                                                                                                  \n",
            " concatenate_9 (Concatenate  (None, 16, 16, 144)          0         ['concatenate_8[0][0]',       \n",
            " )                                                                   'dropout_9[0][0]']           \n",
            "                                                                                                  \n",
            " batch_normalization_13 (Ba  (None, 16, 16, 144)          576       ['concatenate_9[0][0]']       \n",
            " tchNormalization)                                                                                \n",
            "                                                                                                  \n",
            " activation_13 (Activation)  (None, 16, 16, 144)          0         ['batch_normalization_13[0][0]\n",
            "                                                                    ']                            \n",
            "                                                                                                  \n",
            " conv2d_13 (Conv2D)          (None, 16, 16, 12)           15552     ['activation_13[0][0]']       \n",
            "                                                                                                  \n",
            " dropout_10 (Dropout)        (None, 16, 16, 12)           0         ['conv2d_13[0][0]']           \n",
            "                                                                                                  \n",
            " concatenate_10 (Concatenat  (None, 16, 16, 156)          0         ['concatenate_9[0][0]',       \n",
            " e)                                                                  'dropout_10[0][0]']          \n",
            "                                                                                                  \n",
            " batch_normalization_14 (Ba  (None, 16, 16, 156)          624       ['concatenate_10[0][0]']      \n",
            " tchNormalization)                                                                                \n",
            "                                                                                                  \n",
            " activation_14 (Activation)  (None, 16, 16, 156)          0         ['batch_normalization_14[0][0]\n",
            "                                                                    ']                            \n",
            "                                                                                                  \n",
            " conv2d_14 (Conv2D)          (None, 16, 16, 12)           16848     ['activation_14[0][0]']       \n",
            "                                                                                                  \n",
            " dropout_11 (Dropout)        (None, 16, 16, 12)           0         ['conv2d_14[0][0]']           \n",
            "                                                                                                  \n",
            " concatenate_11 (Concatenat  (None, 16, 16, 168)          0         ['concatenate_10[0][0]',      \n",
            " e)                                                                  'dropout_11[0][0]']          \n",
            "                                                                                                  \n",
            " batch_normalization_15 (Ba  (None, 16, 16, 168)          672       ['concatenate_11[0][0]']      \n",
            " tchNormalization)                                                                                \n",
            "                                                                                                  \n",
            " activation_15 (Activation)  (None, 16, 16, 168)          0         ['batch_normalization_15[0][0]\n",
            "                                                                    ']                            \n",
            "                                                                                                  \n",
            " global_average_pooling2d (  (None, 168)                  0         ['activation_15[0][0]']       \n",
            " GlobalAveragePooling2D)                                                                          \n",
            "                                                                                                  \n",
            " dense (Dense)               (None, 10)                   1690      ['global_average_pooling2d[0][\n",
            "                                                                    0]']                          \n",
            "                                                                                                  \n",
            "==================================================================================================\n",
            "Total params: 144322 (563.76 KB)\n",
            "Trainable params: 141442 (552.51 KB)\n",
            "Non-trainable params: 2880 (11.25 KB)\n",
            "__________________________________________________________________________________________________\n",
            "None\n"
          ]
        }
      ],
      "source": [
        "from keras.utils import plot_model\n",
        "from IPython.display import Image, display\n",
        "\n",
        "#model_2 = keras.models.load_model('/content/drive/MyDrive/'+\"Dense_Net.keras\")\n",
        "#plot_model(model_2, show_shapes=True, show_layer_names=True, to_file='model.png')\n",
        "print(model_2.summary())"
      ]
    },
    {
      "cell_type": "code",
      "execution_count": null,
      "metadata": {
        "colab": {
          "base_uri": "https://localhost:8080/"
        },
        "id": "aUG-TKxMzWH1",
        "outputId": "9de87004-aea1-482e-fd4b-37f3e2a0b2d1"
      },
      "outputs": [
        {
          "name": "stdout",
          "output_type": "stream",
          "text": [
            "1/1 [==============================] - 1s 683ms/step\n",
            "Predicted Class: E-3\n"
          ]
        }
      ],
      "source": [
        "#Prediting using model\n",
        "\n",
        "from keras.preprocessing import image as keras_image\n",
        "from tensorflow.keras.models import load_model\n",
        "\n",
        "\n",
        "# Load the image and preprocess it\n",
        "img_path = '/content/drive/MyDrive/aircraft_image_dataset/E-3/9-103.jpg' #loading an image of E-3 aircraft\n",
        "img = keras_image.load_img(img_path, target_size=(RESIZE_VALUE, RESIZE_VALUE))\n",
        "img_array = keras_image.img_to_array(img)\n",
        "img_array = img_array / 255.0  # Normalize the image\n",
        "\n",
        "# Expand dimensions to match the model input shape (if necessary)\n",
        "img_input = np.expand_dims(img_array, axis=0)\n",
        "\n",
        "# Make predictions\n",
        "predictions = model_2.predict(img_input)\n",
        "predicted_class_index = np.argmax(predictions)\n",
        "predicted_class = aircraft_types[predicted_class_index]\n",
        "\n",
        "print(\"Predicted Class:\", predicted_class)\n"
      ]
    },
    {
      "cell_type": "code",
      "execution_count": null,
      "metadata": {
        "colab": {
          "base_uri": "https://localhost:8080/"
        },
        "id": "VnuigyNrd7xo",
        "outputId": "2d6f8328-0992-4755-de41-0c38b8fad4ee"
      },
      "outputs": [
        {
          "name": "stdout",
          "output_type": "stream",
          "text": [
            "Requirement already satisfied: tensorflow-model-optimization in /usr/local/lib/python3.10/dist-packages (0.7.5)\n",
            "Requirement already satisfied: absl-py~=1.2 in /usr/local/lib/python3.10/dist-packages (from tensorflow-model-optimization) (1.4.0)\n",
            "Requirement already satisfied: dm-tree~=0.1.1 in /usr/local/lib/python3.10/dist-packages (from tensorflow-model-optimization) (0.1.8)\n",
            "Requirement already satisfied: numpy~=1.23 in /usr/local/lib/python3.10/dist-packages (from tensorflow-model-optimization) (1.23.5)\n",
            "Requirement already satisfied: six~=1.14 in /usr/local/lib/python3.10/dist-packages (from tensorflow-model-optimization) (1.16.0)\n",
            "Epoch 1/2\n",
            "  6/154 [>.............................] - ETA: 13s - loss: 0.2561 - accuracy: 0.9062"
          ]
        },
        {
          "name": "stderr",
          "output_type": "stream",
          "text": [
            "WARNING:tensorflow:Callback method `on_train_batch_end` is slow compared to the batch time (batch time: 0.0515s vs `on_train_batch_end` time: 0.0922s). Check your callbacks.\n"
          ]
        },
        {
          "name": "stdout",
          "output_type": "stream",
          "text": [
            "154/154 [==============================] - 49s 137ms/step - loss: 0.2409 - accuracy: 0.9279\n",
            "Epoch 2/2\n",
            "154/154 [==============================] - 15s 94ms/step - loss: 0.2821 - accuracy: 0.9187\n"
          ]
        },
        {
          "data": {
            "text/plain": [
              "<keras.src.callbacks.History at 0x798de1921c60>"
            ]
          },
          "execution_count": 14,
          "metadata": {},
          "output_type": "execute_result"
        }
      ],
      "source": [
        "# Pruning the model\n",
        "!pip install tensorflow-model-optimization\n",
        "import tensorflow_model_optimization as tfmot\n",
        "\n",
        "# Define a pruning schedule (adjust as needed)\n",
        "pruning_schedule = tfmot.sparsity.keras.PolynomialDecay(\n",
        "    initial_sparsity=0.0,\n",
        "    final_sparsity=0.5,  # Pruning 50% of the weights\n",
        "    begin_step=0,\n",
        "    end_step=1000\n",
        ")\n",
        "\n",
        "# Create a pruning callback\n",
        "pruning_callbacks = [\n",
        "    tfmot.sparsity.keras.UpdatePruningStep(),\n",
        "    tfmot.sparsity.keras.PruningSummaries(log_dir='/tmp')\n",
        "]\n",
        "\n",
        "# Define the model for pruning\n",
        "pruned_model = tfmot.sparsity.keras.prune_low_magnitude(model_2, pruning_schedule=pruning_schedule)\n",
        "\n",
        "# Compile the pruned model with appropriate optimizer and loss function\n",
        "pruned_model.compile(optimizer='adam', loss='sparse_categorical_crossentropy', metrics=['accuracy'])\n",
        "\n",
        "# Prune the model by training for a few epochs (adjust epochs and other parameters)\n",
        "pruned_model.fit(x_train, y_train, epochs=2, callbacks=pruning_callbacks)"
      ]
    },
    {
      "cell_type": "code",
      "execution_count": null,
      "metadata": {
        "colab": {
          "base_uri": "https://localhost:8080/"
        },
        "id": "6oSuWLEqeDRL",
        "outputId": "06cc3ab3-f366-4060-f96d-e666e8e11ef0"
      },
      "outputs": [
        {
          "name": "stdout",
          "output_type": "stream",
          "text": [
            "39/39 [==============================] - 1s 23ms/step - loss: 7.2177 - accuracy: 0.2547\n",
            "Test accuracy: 0.254693865776062\n"
          ]
        }
      ],
      "source": [
        "test_loss, test_accuracy = pruned_model.evaluate(x_test, y_test)\n",
        "print(f'Test accuracy: {test_accuracy}')"
      ]
    }
  ],
  "metadata": {
    "accelerator": "GPU",
    "colab": {
      "provenance": []
    },
    "kernelspec": {
      "display_name": "Python 3",
      "name": "python3"
    },
    "language_info": {
      "name": "python"
    }
  },
  "nbformat": 4,
  "nbformat_minor": 0
}
